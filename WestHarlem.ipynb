{
 "cells": [
  {
   "cell_type": "code",
   "execution_count": 53,
   "metadata": {},
   "outputs": [],
   "source": [
    "# the TestEnv environment is used to simply simulate the network\n",
    "from flow.envs import TestEnv\n",
    "\n",
    "# the Experiment class is used for running simulations\n",
    "from flow.core.experiment import Experiment\n",
    "\n",
    "# the base scenario class\n",
    "from flow.scenarios import Scenario\n",
    "\n",
    "# all other imports are standard\n",
    "from flow.core.params import VehicleParams\n",
    "from flow.core.params import NetParams\n",
    "from flow.core.params import InitialConfig\n",
    "from flow.core.params import EnvParams\n",
    "\n",
    "# create some default parameters parameters\n",
    "env_params = EnvParams()\n",
    "initial_config = InitialConfig()\n"
   ]
  },
  {
   "cell_type": "code",
   "execution_count": 54,
   "metadata": {},
   "outputs": [],
   "source": [
    "from flow.core.params import SumoParams\n",
    "\n",
    "sim_params = SumoParams(render=True, sim_step=1)"
   ]
  },
  {
   "cell_type": "code",
   "execution_count": 55,
   "metadata": {},
   "outputs": [],
   "source": [
    "dirname = \"./\""
   ]
  },
  {
   "cell_type": "code",
   "execution_count": 56,
   "metadata": {},
   "outputs": [
    {
     "data": {
      "text/plain": [
       "'\\nvehicles.add(\"human\",\\n             acceleration_controller=(IDMController, {}),\\n             routing_controller=(ContinuousRouter, {}),\\n             num_vehicles=20)'"
      ]
     },
     "execution_count": 56,
     "metadata": {},
     "output_type": "execute_result"
    }
   ],
   "source": [
    "import os\n",
    "\n",
    "new_net_params = NetParams(\n",
    "    template={\n",
    "        # network geometry features\n",
    "        \"net\": os.path.join(dirname, \"osm.net.xml\"),\n",
    "        # features associated with the properties of drivers\n",
    "        \"vtype\": os.path.join(dirname, \"vtypes.add.xml\"),  #describes the vehicles. \n",
    "        # features associated with the routes vehicles take\n",
    "        \"rou\": [os.path.join(dirname, \"result.rou.xml\")] #describes routes, generated from trips.xml (also named routes)\n",
    "                                                          # by duarouter, need to pass in some extra default params to command line\n",
    "        #need to COPY all files to /flow/flow/core/kernel/scenario/debug/cfg if your given path is current folder \n",
    "    },\n",
    "    no_internal_links=False\n",
    ")\n",
    "\n",
    "# we no longer need to specify anything in VehicleParams\n",
    "new_vehicles = VehicleParams()\n",
    "\n",
    "from flow.controllers.car_following_models import IDMController\n",
    "from flow.controllers.routing_controllers import ContinuousRouter\n",
    "\n",
    "'''\n",
    "vehicles.add(\"human\",\n",
    "             acceleration_controller=(IDMController, {}),\n",
    "             routing_controller=(ContinuousRouter, {}),\n",
    "             num_vehicles=20)'''"
   ]
  },
  {
   "cell_type": "code",
   "execution_count": 57,
   "metadata": {},
   "outputs": [
    {
     "name": "stdout",
     "output_type": "stream",
     "text": [
      "Round 0, return: 0\n",
      "Average, std return: 0.0, 0.0\n",
      "Average, std speed: 0.024455881207428087, 0.0\n"
     ]
    }
   ],
   "source": [
    "# create the scenario\n",
    "scenario = Scenario(\n",
    "    name=\"template\",\n",
    "    net_params=new_net_params,\n",
    "    vehicles=new_vehicles\n",
    ")\n",
    "\n",
    "# create the environment\n",
    "env = TestEnv(\n",
    "    env_params=env_params,\n",
    "    sim_params=sim_params,\n",
    "    scenario=scenario\n",
    ")\n",
    "\n",
    "# run the simulation for 100000 steps\n",
    "exp = Experiment(env=env)\n",
    "_ = exp.run(1, 100000)"
   ]
  },
  {
   "cell_type": "code",
   "execution_count": null,
   "metadata": {},
   "outputs": [],
   "source": []
  }
 ],
 "metadata": {
  "kernelspec": {
   "display_name": "Python 3",
   "language": "python",
   "name": "python3"
  },
  "language_info": {
   "codemirror_mode": {
    "name": "ipython",
    "version": 3
   },
   "file_extension": ".py",
   "mimetype": "text/x-python",
   "name": "python",
   "nbconvert_exporter": "python",
   "pygments_lexer": "ipython3",
   "version": "3.6.8"
  }
 },
 "nbformat": 4,
 "nbformat_minor": 2
}
